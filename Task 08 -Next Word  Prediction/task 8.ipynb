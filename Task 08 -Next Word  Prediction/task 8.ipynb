{
 "cells": [
  {
   "cell_type": "markdown",
   "metadata": {},
   "source": [
    "![This is an image](https://letsgrowmore.in/wp-content/uploads/2021/05/growmore-removebg-preview.png)\n",
    "## ***Virtual Internship Program***\n",
    "***Data Science  Tasks***\n",
    "### ***Author: SARAVANAVEL***"
   ]
  },
  {
   "cell_type": "markdown",
   "metadata": {},
   "source": [
    "# ***ADVANCED LEVEL TASK***\n",
    "### Task 8 -Next Word Prediction\n",
    "Using Tensorflow and Keras library train a RNN , to predict the next word.\n",
    "\n",
    "\n",
    "Dataset Link: https://drive.google.com/file/d/1GeUzNVqiixXHnTl8oNiQ2W3CynX_lsu2/view"
   ]
  },
  {
   "cell_type": "markdown",
   "metadata": {
    "id": "u9M80zZ-LR-h"
   },
   "source": [
    "## Importing packages"
   ]
  },
  {
   "cell_type": "code",
   "execution_count": 1,
   "metadata": {
    "executionInfo": {
     "elapsed": 2732,
     "status": "ok",
     "timestamp": 1630315551031,
     "user": {
      "displayName": "Saravana Vel",
      "photoUrl": "",
      "userId": "06114257416441264518"
     },
     "user_tz": -330
    },
    "id": "3tZm2YwxLR-k"
   },
   "outputs": [],
   "source": [
    "import numpy as np\n",
    "np.random.seed(42)\n",
    "import tensorflow as tf\n",
    "tf.random.set_seed(42)\n",
    " \n",
    "from tensorflow.keras.models import Sequential, load_model\n",
    "from tensorflow.keras.layers import Dense, Activation\n",
    "from tensorflow.keras.layers import LSTM, Dropout\n",
    "from tensorflow.keras.layers import TimeDistributed\n",
    "from tensorflow.keras.layers import Dense, Activation, Dropout, RepeatVector\n",
    "from tensorflow.keras.optimizers import  RMSprop\n",
    "import matplotlib.pyplot as plt\n",
    "import pickle\n",
    "import heapq"
   ]
  },
  {
   "cell_type": "markdown",
   "metadata": {
    "id": "Gid_6mnnLR-l"
   },
   "source": [
    "## Loading the data"
   ]
  },
  {
   "cell_type": "code",
   "execution_count": 2,
   "metadata": {
    "colab": {
     "base_uri": "https://localhost:8080/"
    },
    "executionInfo": {
     "elapsed": 18,
     "status": "ok",
     "timestamp": 1630315551032,
     "user": {
      "displayName": "Saravana Vel",
      "photoUrl": "",
      "userId": "06114257416441264518"
     },
     "user_tz": -330
    },
    "id": "9YyV4g4JVTB-",
    "outputId": "735454d2-96fc-4b0b-db08-60694fd8947f"
   },
   "outputs": [
    {
     "name": "stdout",
     "output_type": "stream",
     "text": [
      "corpus length: 581888\n"
     ]
    }
   ],
   "source": [
    "path = 'sample_text.txt'\n",
    "text = open(path,encoding = \"utf8\").read().lower()\n",
    "print('corpus length:', len(text))"
   ]
  },
  {
   "cell_type": "markdown",
   "metadata": {
    "id": "hVxcxmxQLR-m"
   },
   "source": [
    "## Data Preprocessing"
   ]
  },
  {
   "cell_type": "code",
   "execution_count": 4,
   "metadata": {
    "colab": {
     "base_uri": "https://localhost:8080/"
    },
    "executionInfo": {
     "elapsed": 15,
     "status": "ok",
     "timestamp": 1630315551033,
     "user": {
      "displayName": "Saravana Vel",
      "photoUrl": "",
      "userId": "06114257416441264518"
     },
     "user_tz": -330
    },
    "id": "WVpaZCSdLR-m",
    "outputId": "19ef4d53-0362-43dc-f753-b97fcc1724e2",
    "scrolled": true
   },
   "outputs": [
    {
     "name": "stdout",
     "output_type": "stream",
     "text": [
      "unique chars: 73\n"
     ]
    }
   ],
   "source": [
    "character = sorted(list(set(text)))\n",
    "char_indices = dict((c, i) for i, c in enumerate(character))\n",
    "indices_char = dict((i, c) for i, c in enumerate(character))\n",
    " \n",
    "print(f'unique chars: {len(character)}')"
   ]
  },
  {
   "cell_type": "code",
   "execution_count": 5,
   "metadata": {
    "colab": {
     "base_uri": "https://localhost:8080/"
    },
    "executionInfo": {
     "elapsed": 13,
     "status": "ok",
     "timestamp": 1630315551034,
     "user": {
      "displayName": "Saravana Vel",
      "photoUrl": "",
      "userId": "06114257416441264518"
     },
     "user_tz": -330
    },
    "id": "Nf1LvBPILR-n",
    "outputId": "2e5eef48-5ace-417a-a14c-91e5aed2e256"
   },
   "outputs": [
    {
     "name": "stdout",
     "output_type": "stream",
     "text": [
      "num training examples: 193950\n"
     ]
    }
   ],
   "source": [
    "#chunk 40 characters with 3 sequences\n",
    "seq_len = 40\n",
    "step = 3\n",
    "sentences = []\n",
    "next_chars = []\n",
    "for i in range(0, len(text) - seq_len, step):\n",
    "    sentences.append(text[i: i + seq_len ])\n",
    "    next_chars.append(text[i + seq_len])\n",
    "print(f'num training examples: {len(sentences)}')"
   ]
  },
  {
   "cell_type": "code",
   "execution_count": 6,
   "metadata": {
    "executionInfo": {
     "elapsed": 3263,
     "status": "ok",
     "timestamp": 1630315554285,
     "user": {
      "displayName": "Saravana Vel",
      "photoUrl": "",
      "userId": "06114257416441264518"
     },
     "user_tz": -330
    },
    "id": "u0xjISbGLR-n"
   },
   "outputs": [],
   "source": [
    "# generating our features and labels\n",
    "#one hot encoding\n",
    "X = np.zeros((len(sentences), seq_len, len(character)), dtype=np.bool)\n",
    "y = np.zeros((len(sentences), len(character)), dtype=np.bool)\n",
    "for i, sentence in enumerate(sentences):\n",
    "    for t, char in enumerate(sentence):\n",
    "        X[i, t, char_indices[char]] = 1\n",
    "    y[i, char_indices[next_chars[i]]] = 1"
   ]
  },
  {
   "cell_type": "code",
   "execution_count": 7,
   "metadata": {
    "colab": {
     "base_uri": "https://localhost:8080/",
     "height": 35
    },
    "executionInfo": {
     "elapsed": 37,
     "status": "ok",
     "timestamp": 1630315554292,
     "user": {
      "displayName": "Saravana Vel",
      "photoUrl": "",
      "userId": "06114257416441264518"
     },
     "user_tz": -330
    },
    "id": "a_LZ0kSRLR-n",
    "outputId": "ccd8f2ad-7617-4009-dee6-c390f68cb894"
   },
   "outputs": [
    {
     "data": {
      "application/vnd.google.colaboratory.intrinsic+json": {
       "type": "string"
      },
      "text/plain": [
       "'\\nauthor: arthur conan doyle\\n\\nrelease dat'"
      ]
     },
     "execution_count": 7,
     "metadata": {},
     "output_type": "execute_result"
    }
   ],
   "source": [
    "sentences[124]"
   ]
  },
  {
   "cell_type": "code",
   "execution_count": 8,
   "metadata": {
    "colab": {
     "base_uri": "https://localhost:8080/",
     "height": 35
    },
    "executionInfo": {
     "elapsed": 22,
     "status": "ok",
     "timestamp": 1630315554293,
     "user": {
      "displayName": "Saravana Vel",
      "photoUrl": "",
      "userId": "06114257416441264518"
     },
     "user_tz": -330
    },
    "id": "g5w8agWgLR-o",
    "outputId": "c6f9307a-afe9-4a18-8119-fdc0f6dd6aea"
   },
   "outputs": [
    {
     "data": {
      "application/vnd.google.colaboratory.intrinsic+json": {
       "type": "string"
      },
      "text/plain": [
       "'e'"
      ]
     },
     "execution_count": 8,
     "metadata": {},
     "output_type": "execute_result"
    }
   ],
   "source": [
    "next_chars[100]"
   ]
  },
  {
   "cell_type": "code",
   "execution_count": 9,
   "metadata": {
    "colab": {
     "base_uri": "https://localhost:8080/"
    },
    "executionInfo": {
     "elapsed": 21,
     "status": "ok",
     "timestamp": 1630315554293,
     "user": {
      "displayName": "Saravana Vel",
      "photoUrl": "",
      "userId": "06114257416441264518"
     },
     "user_tz": -330
    },
    "id": "9uZlhQHILR-o",
    "outputId": "e97350f1-68eb-490e-b432-cf1da3cc4816"
   },
   "outputs": [
    {
     "data": {
      "text/plain": [
       "array([False, False, False, False, False, False, False, False, False,\n",
       "       False, False, False, False, False, False, False, False, False,\n",
       "       False, False, False, False, False, False, False, False, False,\n",
       "       False, False, False, False, False, False, False, False, False,\n",
       "       False, False, False, False, False, False, False, False, False,\n",
       "       False, False, False, False, False, False, False, False, False,\n",
       "       False, False, False, False, False, False, False, False, False,\n",
       "       False, False, False, False, False, False, False, False, False,\n",
       "        True])"
      ]
     },
     "execution_count": 9,
     "metadata": {},
     "output_type": "execute_result"
    }
   ],
   "source": [
    "#one hot encoded data\n",
    "X[0][0]"
   ]
  },
  {
   "cell_type": "code",
   "execution_count": 10,
   "metadata": {
    "colab": {
     "base_uri": "https://localhost:8080/"
    },
    "executionInfo": {
     "elapsed": 19,
     "status": "ok",
     "timestamp": 1630315554294,
     "user": {
      "displayName": "Saravana Vel",
      "photoUrl": "",
      "userId": "06114257416441264518"
     },
     "user_tz": -330
    },
    "id": "8G3NgBhGLR-o",
    "outputId": "bfb8f1a8-35d2-4724-c499-d1891b6b3f96"
   },
   "outputs": [
    {
     "data": {
      "text/plain": [
       "array([False, False, False, False, False, False, False, False, False,\n",
       "       False, False, False, False, False, False, False, False, False,\n",
       "       False, False, False, False, False, False, False, False, False,\n",
       "       False, False, False, False, False, False, False, False, False,\n",
       "       False, False, False, False, False, False, False, False, False,\n",
       "       False, False, False, False, False, False,  True, False, False,\n",
       "       False, False, False, False, False, False, False, False, False,\n",
       "       False, False, False, False, False, False, False, False, False,\n",
       "       False])"
      ]
     },
     "execution_count": 10,
     "metadata": {},
     "output_type": "execute_result"
    }
   ],
   "source": [
    "#one hot encoded data\n",
    "y[0]"
   ]
  },
  {
   "cell_type": "code",
   "execution_count": 11,
   "metadata": {
    "colab": {
     "base_uri": "https://localhost:8080/"
    },
    "executionInfo": {
     "elapsed": 17,
     "status": "ok",
     "timestamp": 1630315554294,
     "user": {
      "displayName": "Saravana Vel",
      "photoUrl": "",
      "userId": "06114257416441264518"
     },
     "user_tz": -330
    },
    "id": "P_pIYBcNLR-p",
    "outputId": "d8abb5e7-90e8-4359-f90f-5cce1825150e"
   },
   "outputs": [
    {
     "data": {
      "text/plain": [
       "(193950, 40, 73)"
      ]
     },
     "execution_count": 11,
     "metadata": {},
     "output_type": "execute_result"
    }
   ],
   "source": [
    "X.shape"
   ]
  },
  {
   "cell_type": "code",
   "execution_count": 12,
   "metadata": {
    "colab": {
     "base_uri": "https://localhost:8080/"
    },
    "executionInfo": {
     "elapsed": 17,
     "status": "ok",
     "timestamp": 1630315554295,
     "user": {
      "displayName": "Saravana Vel",
      "photoUrl": "",
      "userId": "06114257416441264518"
     },
     "user_tz": -330
    },
    "id": "1QCu1gCpLR-p",
    "outputId": "7d1b36a2-e8bb-4a6a-c9c2-44dee48b164b"
   },
   "outputs": [
    {
     "data": {
      "text/plain": [
       "(193950, 73)"
      ]
     },
     "execution_count": 12,
     "metadata": {},
     "output_type": "execute_result"
    }
   ],
   "source": [
    "y.shape"
   ]
  },
  {
   "cell_type": "markdown",
   "metadata": {
    "id": "DfZiaqGOLR-p"
   },
   "source": [
    "# Creating the model"
   ]
  },
  {
   "cell_type": "code",
   "execution_count": 13,
   "metadata": {
    "executionInfo": {
     "elapsed": 946,
     "status": "ok",
     "timestamp": 1630315555226,
     "user": {
      "displayName": "Saravana Vel",
      "photoUrl": "",
      "userId": "06114257416441264518"
     },
     "user_tz": -330
    },
    "id": "PD3zlFwbLR-p"
   },
   "outputs": [],
   "source": [
    "model = Sequential()\n",
    "model.add(LSTM(128, input_shape=(seq_len, len(character))))\n",
    "model.add(Dense(len(character)))\n",
    "model.add(Activation('softmax'))"
   ]
  },
  {
   "cell_type": "code",
   "execution_count": 14,
   "metadata": {
    "colab": {
     "base_uri": "https://localhost:8080/",
     "height": 656
    },
    "executionInfo": {
     "elapsed": 10,
     "status": "ok",
     "timestamp": 1630315555227,
     "user": {
      "displayName": "Saravana Vel",
      "photoUrl": "",
      "userId": "06114257416441264518"
     },
     "user_tz": -330
    },
    "id": "6vPB0EmMY-8O",
    "outputId": "94a55844-6d6c-4827-eb4f-ce4e5bc800af"
   },
   "outputs": [
    {
     "name": "stdout",
     "output_type": "stream",
     "text": [
      "Model: \"sequential\"\n",
      "_________________________________________________________________\n",
      "Layer (type)                 Output Shape              Param #   \n",
      "=================================================================\n",
      "lstm (LSTM)                  (None, 128)               103424    \n",
      "_________________________________________________________________\n",
      "dense (Dense)                (None, 73)                9417      \n",
      "_________________________________________________________________\n",
      "activation (Activation)      (None, 73)                0         \n",
      "=================================================================\n",
      "Total params: 112,841\n",
      "Trainable params: 112,841\n",
      "Non-trainable params: 0\n",
      "_________________________________________________________________\n"
     ]
    },
    {
     "data": {
      "image/png": "[encoded data removed]",
      "text/plain": [
       "<IPython.core.display.Image object>"
      ]
     },
     "execution_count": 14,
     "metadata": {},
     "output_type": "execute_result"
    }
   ],
   "source": [
    "model.summary()\n",
    "from tensorflow.keras.utils import plot_model\n",
    "plot_model(model, show_shapes=True, to_file='model.png')"
   ]
  },
  {
   "cell_type": "markdown",
   "metadata": {
    "id": "Ijhm50ry9nBp"
   },
   "source": [
    "# Training our model"
   ]
  },
  {
   "cell_type": "markdown",
   "metadata": {
    "id": "VYqNDXsCx81S"
   },
   "source": []
  },
  {
   "cell_type": "code",
   "execution_count": 15,
   "metadata": {
    "colab": {
     "base_uri": "https://localhost:8080/"
    },
    "executionInfo": {
     "elapsed": 556113,
     "status": "ok",
     "timestamp": 1630316111334,
     "user": {
      "displayName": "Saravana Vel",
      "photoUrl": "",
      "userId": "06114257416441264518"
     },
     "user_tz": -330
    },
    "id": "SijcUwz8cVwU",
    "outputId": "414c0cee-7bbf-4634-910e-83f72558da01"
   },
   "outputs": [
    {
     "name": "stdout",
     "output_type": "stream",
     "text": [
      "Epoch 1/30\n",
      "1501/1501 [==============================] - 23s 14ms/step - loss: 1.9425 - accuracy: 0.4286 - val_loss: 2.2035 - val_accuracy: 0.3918\n",
      "Epoch 2/30\n",
      "1501/1501 [==============================] - 19s 12ms/step - loss: 1.6090 - accuracy: 0.5171 - val_loss: 2.0659 - val_accuracy: 0.4474\n",
      "Epoch 3/30\n",
      "1501/1501 [==============================] - 18s 12ms/step - loss: 1.5157 - accuracy: 0.5433 - val_loss: 1.9985 - val_accuracy: 0.4582\n",
      "Epoch 4/30\n",
      "1501/1501 [==============================] - 18s 12ms/step - loss: 1.4672 - accuracy: 0.5563 - val_loss: 2.0102 - val_accuracy: 0.4567\n",
      "Epoch 5/30\n",
      "1501/1501 [==============================] - 18s 12ms/step - loss: 1.4352 - accuracy: 0.5660 - val_loss: 1.9749 - val_accuracy: 0.4794\n",
      "Epoch 6/30\n",
      "1501/1501 [==============================] - 18s 12ms/step - loss: 1.4096 - accuracy: 0.5712 - val_loss: 2.0004 - val_accuracy: 0.4778\n",
      "Epoch 7/30\n",
      "1501/1501 [==============================] - 18s 12ms/step - loss: 1.3939 - accuracy: 0.5770 - val_loss: 1.9970 - val_accuracy: 0.4727\n",
      "Epoch 8/30\n",
      "1501/1501 [==============================] - 18s 12ms/step - loss: 1.3777 - accuracy: 0.5806 - val_loss: 1.9891 - val_accuracy: 0.4716\n",
      "Epoch 9/30\n",
      "1501/1501 [==============================] - 18s 12ms/step - loss: 1.3649 - accuracy: 0.5848 - val_loss: 1.9355 - val_accuracy: 0.5052\n",
      "Epoch 10/30\n",
      "1501/1501 [==============================] - 18s 12ms/step - loss: 1.3558 - accuracy: 0.5869 - val_loss: 1.9872 - val_accuracy: 0.4753\n",
      "Epoch 11/30\n",
      "1501/1501 [==============================] - 18s 12ms/step - loss: 1.3460 - accuracy: 0.5894 - val_loss: 1.9744 - val_accuracy: 0.4840\n",
      "Epoch 12/30\n",
      "1501/1501 [==============================] - 18s 12ms/step - loss: 1.3369 - accuracy: 0.5917 - val_loss: 1.9839 - val_accuracy: 0.4928\n",
      "Epoch 13/30\n",
      "1501/1501 [==============================] - 18s 12ms/step - loss: 1.3331 - accuracy: 0.5919 - val_loss: 2.0311 - val_accuracy: 0.4814\n",
      "Epoch 14/30\n",
      "1501/1501 [==============================] - 18s 12ms/step - loss: 1.3260 - accuracy: 0.5936 - val_loss: 2.0093 - val_accuracy: 0.4918\n",
      "Epoch 15/30\n",
      "1501/1501 [==============================] - 18s 12ms/step - loss: 1.3198 - accuracy: 0.5956 - val_loss: 2.0079 - val_accuracy: 0.4814\n",
      "Epoch 16/30\n",
      "1501/1501 [==============================] - 18s 12ms/step - loss: 1.3135 - accuracy: 0.5965 - val_loss: 2.0272 - val_accuracy: 0.4851\n",
      "Epoch 17/30\n",
      "1501/1501 [==============================] - 18s 12ms/step - loss: 1.3084 - accuracy: 0.5981 - val_loss: 2.0315 - val_accuracy: 0.4948\n",
      "Epoch 18/30\n",
      "1501/1501 [==============================] - 18s 12ms/step - loss: 1.3043 - accuracy: 0.5998 - val_loss: 2.0498 - val_accuracy: 0.4902\n",
      "Epoch 19/30\n",
      "1501/1501 [==============================] - 18s 12ms/step - loss: 1.3001 - accuracy: 0.6009 - val_loss: 2.0637 - val_accuracy: 0.4907\n",
      "Epoch 20/30\n",
      "1501/1501 [==============================] - 18s 12ms/step - loss: 1.2961 - accuracy: 0.6020 - val_loss: 2.0727 - val_accuracy: 0.4866\n",
      "Epoch 21/30\n",
      "1501/1501 [==============================] - 18s 12ms/step - loss: 1.2915 - accuracy: 0.6025 - val_loss: 2.1107 - val_accuracy: 0.4680\n",
      "Epoch 22/30\n",
      "1501/1501 [==============================] - 18s 12ms/step - loss: 1.2868 - accuracy: 0.6046 - val_loss: 2.0766 - val_accuracy: 0.4799\n",
      "Epoch 23/30\n",
      "1501/1501 [==============================] - 18s 12ms/step - loss: 1.2834 - accuracy: 0.6058 - val_loss: 1.9943 - val_accuracy: 0.4830\n",
      "Epoch 24/30\n",
      "1501/1501 [==============================] - 18s 12ms/step - loss: 1.2808 - accuracy: 0.6061 - val_loss: 2.0472 - val_accuracy: 0.4845\n",
      "Epoch 25/30\n",
      "1501/1501 [==============================] - 18s 12ms/step - loss: 1.2778 - accuracy: 0.6068 - val_loss: 2.0277 - val_accuracy: 0.4959\n",
      "Epoch 26/30\n",
      "1501/1501 [==============================] - 18s 12ms/step - loss: 1.2741 - accuracy: 0.6078 - val_loss: 2.0831 - val_accuracy: 0.4866\n",
      "Epoch 27/30\n",
      "1501/1501 [==============================] - 18s 12ms/step - loss: 1.2711 - accuracy: 0.6085 - val_loss: 2.1093 - val_accuracy: 0.4691\n",
      "Epoch 28/30\n",
      "1501/1501 [==============================] - 18s 12ms/step - loss: 1.2678 - accuracy: 0.6092 - val_loss: 2.0353 - val_accuracy: 0.4887\n",
      "Epoch 29/30\n",
      "1501/1501 [==============================] - 18s 12ms/step - loss: 1.2655 - accuracy: 0.6095 - val_loss: 2.1841 - val_accuracy: 0.4603\n",
      "Epoch 30/30\n",
      "1501/1501 [==============================] - 18s 12ms/step - loss: 1.2632 - accuracy: 0.6106 - val_loss: 2.0872 - val_accuracy: 0.4902\n"
     ]
    }
   ],
   "source": [
    "optimizer = RMSprop(learning_rate=0.01)\n",
    "model.compile(loss='categorical_crossentropy', optimizer=optimizer, metrics=['accuracy'])\n",
    "history = model.fit(X, y,\n",
    "                    validation_split=0.01, \n",
    "                    batch_size=128,\n",
    "                    epochs=30, \n",
    "                    shuffle=True).history"
   ]
  },
  {
   "cell_type": "code",
   "execution_count": 16,
   "metadata": {
    "executionInfo": {
     "elapsed": 13,
     "status": "ok",
     "timestamp": 1630316111335,
     "user": {
      "displayName": "Saravana Vel",
      "photoUrl": "",
      "userId": "06114257416441264518"
     },
     "user_tz": -330
    },
    "id": "pvM3K0TQLR-q"
   },
   "outputs": [],
   "source": [
    "#saving our model\n",
    "model.save('keras_model.h5')\n",
    "pickle.dump(history, open(\"history.p\", \"wb\"))"
   ]
  },
  {
   "cell_type": "code",
   "execution_count": 17,
   "metadata": {
    "executionInfo": {
     "elapsed": 9,
     "status": "ok",
     "timestamp": 1630316111335,
     "user": {
      "displayName": "Saravana Vel",
      "photoUrl": "",
      "userId": "06114257416441264518"
     },
     "user_tz": -330
    },
    "id": "Q3sQvQopLR-q"
   },
   "outputs": [],
   "source": [
    "#loading our model\n",
    "model = load_model('keras_model.h5')\n",
    "history = pickle.load(open(\"history.p\", \"rb\"))"
   ]
  },
  {
   "cell_type": "markdown",
   "metadata": {
    "id": "Cd88xYIE-BVu"
   },
   "source": [
    "## Model Evaluation"
   ]
  },
  {
   "cell_type": "code",
   "execution_count": 18,
   "metadata": {
    "colab": {
     "base_uri": "https://localhost:8080/"
    },
    "executionInfo": {
     "elapsed": 36700,
     "status": "ok",
     "timestamp": 1630316148027,
     "user": {
      "displayName": "Saravana Vel",
      "photoUrl": "",
      "userId": "06114257416441264518"
     },
     "user_tz": -330
    },
    "id": "9HpwRNYuLR-r",
    "outputId": "6cf835bc-75e3-4761-f4b6-0f412210cc0b",
    "scrolled": true
   },
   "outputs": [
    {
     "name": "stdout",
     "output_type": "stream",
     "text": [
      "6061/6061 [==============================] - 36s 6ms/step - loss: 1.2202 - accuracy: 0.6240\n",
      "Test Loss 1.2202041149139404\n",
      "Test Accuracy 0.6239752769470215\n"
     ]
    }
   ],
   "source": [
    "loss_and_acc=model.evaluate(X,y)\n",
    "print(\"Test Loss\", loss_and_acc[0])\n",
    "print(\"Test Accuracy\", loss_and_acc[1])"
   ]
  },
  {
   "cell_type": "code",
   "execution_count": 19,
   "metadata": {
    "colab": {
     "base_uri": "https://localhost:8080/",
     "height": 353
    },
    "executionInfo": {
     "elapsed": 24,
     "status": "ok",
     "timestamp": 1630316148029,
     "user": {
      "displayName": "Saravana Vel",
      "photoUrl": "",
      "userId": "06114257416441264518"
     },
     "user_tz": -330
    },
    "id": "J_gGLdRdUcxy",
    "outputId": "e04c4ca5-558c-4630-9ea4-5f3afb61291a"
   },
   "outputs": [
    {
     "data": {
      "image/png": "[encoded data removed]",
      "text/plain": [
       "<Figure size 1440x432 with 2 Axes>"
      ]
     },
     "metadata": {
      "needs_background": "light"
     },
     "output_type": "display_data"
    }
   ],
   "source": [
    "acc = history['accuracy']\n",
    "val_acc = history['val_accuracy']\n",
    "loss = history['loss']\n",
    "val_loss = history['val_loss']\n",
    "epochs = range(len(acc))\n",
    "\n",
    "\n",
    "\n",
    "fig, ax = plt.subplots(nrows=1, ncols=2, figsize=(20, 6))\n",
    "ax[0].plot(epochs, acc, 'r', label='Training accuracy')\n",
    "ax[0].plot(epochs, val_acc, 'b', label='Validation accuracy')\n",
    "ax[0].legend(loc=0)\n",
    "ax[1].plot(epochs, loss, 'r', label='Training loss')\n",
    "ax[1].plot(epochs, val_loss, 'b', label='Validation loss')\n",
    "ax[1].legend(loc=0)\n",
    "\n",
    "plt.suptitle('Training and validation')\n",
    "plt.show()"
   ]
  },
  {
   "cell_type": "code",
   "execution_count": 20,
   "metadata": {
    "executionInfo": {
     "elapsed": 21,
     "status": "ok",
     "timestamp": 1630316148030,
     "user": {
      "displayName": "Saravana Vel",
      "photoUrl": "",
      "userId": "06114257416441264518"
     },
     "user_tz": -330
    },
    "id": "CdqDoC2aLR-r"
   },
   "outputs": [],
   "source": [
    "def prepare_input(text):\n",
    "    x = np.zeros((1, seq_len, len(character)))\n",
    "    for t, char in enumerate(text):\n",
    "        x[0, t, char_indices[char]] = 1.\n",
    "        \n",
    "    return x"
   ]
  },
  {
   "cell_type": "code",
   "execution_count": 21,
   "metadata": {
    "colab": {
     "base_uri": "https://localhost:8080/"
    },
    "executionInfo": {
     "elapsed": 20,
     "status": "ok",
     "timestamp": 1630316148030,
     "user": {
      "displayName": "Saravana Vel",
      "photoUrl": "",
      "userId": "06114257416441264518"
     },
     "user_tz": -330
    },
    "id": "SGmWjw-7LR-r",
    "outputId": "11256290-4cd5-4184-928c-383e375c1884"
   },
   "outputs": [
    {
     "data": {
      "text/plain": [
       "array([[[0., 0., 0., ..., 0., 0., 0.],\n",
       "        [0., 0., 0., ..., 0., 0., 0.],\n",
       "        [0., 0., 0., ..., 0., 0., 0.],\n",
       "        ...,\n",
       "        [0., 0., 0., ..., 0., 0., 0.],\n",
       "        [0., 0., 0., ..., 0., 0., 0.],\n",
       "        [0., 0., 0., ..., 0., 0., 0.]]])"
      ]
     },
     "execution_count": 21,
     "metadata": {},
     "output_type": "execute_result"
    }
   ],
   "source": [
    "prepare_input(\"This is an example of input of our model\".lower())"
   ]
  },
  {
   "cell_type": "markdown",
   "metadata": {
    "id": "BHLDX1Tk-lLU"
   },
   "source": [
    "#### functions to get next probable characters"
   ]
  },
  {
   "cell_type": "code",
   "execution_count": 22,
   "metadata": {
    "executionInfo": {
     "elapsed": 19,
     "status": "ok",
     "timestamp": 1630316148031,
     "user": {
      "displayName": "Saravana Vel",
      "photoUrl": "",
      "userId": "06114257416441264518"
     },
     "user_tz": -330
    },
    "id": "FRN3rkbvLR-r"
   },
   "outputs": [],
   "source": [
    "def sample(preds, top_n=3):\n",
    "    preds = np.asarray(preds).astype('float64')\n",
    "    preds = np.log(preds)\n",
    "    exp_preds = np.exp(preds)\n",
    "    preds = exp_preds / np.sum(exp_preds)\n",
    "    \n",
    "    return heapq.nlargest(top_n, range(len(preds)), preds.take)"
   ]
  },
  {
   "cell_type": "code",
   "execution_count": 23,
   "metadata": {
    "executionInfo": {
     "elapsed": 20,
     "status": "ok",
     "timestamp": 1630316148032,
     "user": {
      "displayName": "Saravana Vel",
      "photoUrl": "",
      "userId": "06114257416441264518"
     },
     "user_tz": -330
    },
    "id": "bF8DF6JrLR-s"
   },
   "outputs": [],
   "source": [
    "def predict_completion(text):\n",
    "    original_text = text\n",
    "    generated = text\n",
    "    completion = ''\n",
    "    while True:\n",
    "        x = prepare_input(text)\n",
    "        preds = model.predict(x, verbose=0)[0]\n",
    "        next_index = sample(preds, top_n=1)[0]\n",
    "        next_char = indices_char[next_index]\n",
    "        text = text[1:] + next_char\n",
    "        completion += next_char\n",
    "        \n",
    "        if len(original_text + completion) + 2 > len(original_text) and next_char == ' ':\n",
    "            return completion"
   ]
  },
  {
   "cell_type": "code",
   "execution_count": 24,
   "metadata": {
    "executionInfo": {
     "elapsed": 19,
     "status": "ok",
     "timestamp": 1630316148032,
     "user": {
      "displayName": "Saravana Vel",
      "photoUrl": "",
      "userId": "06114257416441264518"
     },
     "user_tz": -330
    },
    "id": "XtpcQBhILR-s"
   },
   "outputs": [],
   "source": [
    "def predict_completions(text, n=3):\n",
    "    x = prepare_input(text)\n",
    "    preds = model.predict(x, verbose=0)[0]\n",
    "    next_indices = sample(preds, n)\n",
    "    return [indices_char[idx] + predict_completion(text[1:] + indices_char[idx]) for idx in next_indices]"
   ]
  },
  {
   "cell_type": "markdown",
   "metadata": {
    "id": "uFvQZkhOWMwq"
   },
   "source": [
    "# Prediction"
   ]
  },
  {
   "cell_type": "code",
   "execution_count": 25,
   "metadata": {
    "executionInfo": {
     "elapsed": 20,
     "status": "ok",
     "timestamp": 1630316148033,
     "user": {
      "displayName": "Saravana Vel",
      "photoUrl": "",
      "userId": "06114257416441264518"
     },
     "user_tz": -330
    },
    "id": "R7MZd_1xLR-s"
   },
   "outputs": [],
   "source": [
    "quotes = [   \n",
    "    \"Deep learning is subset of machine learning,which is essentially a neural network with three or more layers.\",\n",
    "    \"Machine learning  is the study of computer algorithms that improve automatically through experience and by the use of data.\",\n",
    "    \"It is not a lack of love, but a lack of friendship that makes unhappy marriages.\",\n",
    "    \"Recurrent neural network (RNN) is a type of artificial neural network which uses sequential data or time series data.\",\n",
    "    \"Thanks for spending your precious time to view my work.\"  \n",
    "    \n",
    "]"
   ]
  },
  {
   "cell_type": "code",
   "execution_count": 26,
   "metadata": {
    "colab": {
     "base_uri": "https://localhost:8080/"
    },
    "executionInfo": {
     "elapsed": 4649,
     "status": "ok",
     "timestamp": 1630316152662,
     "user": {
      "displayName": "Saravana Vel",
      "photoUrl": "",
      "userId": "06114257416441264518"
     },
     "user_tz": -330
    },
    "id": "_TSIOy0OLR-s",
    "outputId": "d12950f5-23ac-4769-d181-e7383d9dfbcb",
    "scrolled": true
   },
   "outputs": [
    {
     "name": "stdout",
     "output_type": "stream",
     "text": [
      "deep learning is subset of machine learn\n",
      "['ed ', 'ing ', 'y ', ' to ', 'ales ']\n",
      "\n",
      "machine learning  is the study of comput\n",
      "['ion ', 'e ', 'on.”\\n\\n“well, ', 'tence ', 'ant ']\n",
      "\n",
      "it is not a lack of love, but a lack of \n",
      "['the ', 'considerable ', 'her ', 'my ', 'a ']\n",
      "\n",
      "recurrent neural network (rnn) is a type\n",
      "['ctient ', 'ssion ', 'mplication ', 'writter ', 'ar ']\n",
      "\n",
      "thanks for spending your precious time t\n",
      "['hat ', 'o ', 'rain ', 'ell ', 'ime ']\n",
      "\n"
     ]
    }
   ],
   "source": [
    "for q in quotes:\n",
    "    seq = q[:40].lower()\n",
    "    print(seq)\n",
    "    print(predict_completions(seq, 5))\n",
    "    print()\n",
    "    "
   ]
  },
  {
   "cell_type": "markdown",
   "metadata": {},
   "source": [
    "# THANK YOU!!"
   ]
  }
 ],
 "metadata": {
  "accelerator": "GPU",
  "colab": {
   "collapsed_sections": [],
   "name": "v.ipynb",
   "provenance": []
  },
  "kernelspec": {
   "display_name": "Python 3",
   "language": "python",
   "name": "python3"
  },
  "language_info": {
   "codemirror_mode": {
    "name": "ipython",
    "version": 3
   },
   "file_extension": ".py",
   "mimetype": "text/x-python",
   "name": "python",
   "nbconvert_exporter": "python",
   "pygments_lexer": "ipython3",
   "version": "3.8.5"
  }
 },
 "nbformat": 4,
 "nbformat_minor": 1
}
